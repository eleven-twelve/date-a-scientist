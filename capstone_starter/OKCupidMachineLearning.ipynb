{
 "cells": [
  {
   "cell_type": "code",
   "execution_count": 50,
   "metadata": {},
   "outputs": [],
   "source": [
    "import pandas as pd\n",
    "import numpy as np\n",
    "from matplotlib import pyplot as plt\n",
    "import re\n",
    "from collections import Counter\n",
    "from sklearn import preprocessing\n",
    "from sklearn.svm import SVC\n",
    "from sklearn.model_selection import train_test_split\n",
    "from sklearn.neighbors import KNeighborsClassifier\n",
    "from sklearn.neighbors import KNeighborsRegressor\n",
    "from sklearn.preprocessing import scale\n",
    "from sklearn.linear_model import LinearRegression\n",
    "from scipy.stats import norm\n",
    "import time\n",
    "from sklearn.naive_bayes import MultinomialNB\n",
    "from sklearn.feature_extraction.text import CountVectorizer"
   ]
  },
  {
   "cell_type": "markdown",
   "metadata": {},
   "source": [
    "The dataset provided has the following columns of multiple-choice data:\n",
    "\n",
    "- body_type\n",
    "- diet\n",
    "- drinks\n",
    "- drugs\n",
    "- education\n",
    "- ethnicity\n",
    "- height\n",
    "- income\n",
    "- job\n",
    "- offspring\n",
    "- orientation\n",
    "- pets\n",
    "- religion\n",
    "- sex\n",
    "- sign\n",
    "- smokes\n",
    "- speaks\n",
    "- status\n",
    "\n",
    "And a set of open short-answer responses to :\n",
    "\n",
    "- essay0 - My self summary\n",
    "- essay1 - What I’m doing with my life\n",
    "- essay2 - I’m really good at\n",
    "- essay3 - The first thing people usually notice about me\n",
    "- essay4 - Favorite books, movies, show, music, and food\n",
    "- essay5 - The six things I could never do without\n",
    "- essay6 - I spend a lot of time thinking about\n",
    "- essay7 - On a typical Friday night I am\n",
    "- essay8 - The most private thing I am willing to admit\n",
    "- essay9 - You should message me if…"
   ]
  },
  {
   "cell_type": "code",
   "execution_count": 3,
   "metadata": {},
   "outputs": [
    {
     "name": "stdout",
     "output_type": "stream",
     "text": [
      "   age       body_type               diet    drinks      drugs  \\\n",
      "0   22  a little extra  strictly anything  socially      never   \n",
      "1   35         average       mostly other     often  sometimes   \n",
      "2   38            thin           anything  socially        NaN   \n",
      "3   23            thin         vegetarian  socially        NaN   \n",
      "4   29        athletic                NaN  socially      never   \n",
      "\n",
      "                           education  \\\n",
      "0      working on college/university   \n",
      "1              working on space camp   \n",
      "2     graduated from masters program   \n",
      "3      working on college/university   \n",
      "4  graduated from college/university   \n",
      "\n",
      "                                              essay0  \\\n",
      "0  about me:<br />\\n<br />\\ni would love to think...   \n",
      "1  i am a chef: this is what that means.<br />\\n1...   \n",
      "2  i'm not ashamed of much, but writing public te...   \n",
      "3          i work in a library and go to school. . .   \n",
      "4  hey how's it going? currently vague on the pro...   \n",
      "\n",
      "                                              essay1  \\\n",
      "0  currently working as an international agent fo...   \n",
      "1  dedicating everyday to being an unbelievable b...   \n",
      "2  i make nerdy software for musicians, artists, ...   \n",
      "3          reading things written by old dead people   \n",
      "4                         work work work work + play   \n",
      "\n",
      "                                              essay2  \\\n",
      "0  making people laugh.<br />\\nranting about a go...   \n",
      "1  being silly. having ridiculous amonts of fun w...   \n",
      "2  improvising in different contexts. alternating...   \n",
      "3  playing synthesizers and organizing books acco...   \n",
      "4  creating imagery to look at:<br />\\nhttp://bag...   \n",
      "\n",
      "                                              essay3    ...      \\\n",
      "0  the way i look. i am a six foot half asian, ha...    ...       \n",
      "1                                                NaN    ...       \n",
      "2  my large jaw and large glasses are the physica...    ...       \n",
      "3                  socially awkward but i do my best    ...       \n",
      "4            i smile a lot and my inquisitive nature    ...       \n",
      "\n",
      "                          location  \\\n",
      "0  south san francisco, california   \n",
      "1              oakland, california   \n",
      "2        san francisco, california   \n",
      "3             berkeley, california   \n",
      "4        san francisco, california   \n",
      "\n",
      "                                      offspring orientation  \\\n",
      "0  doesn&rsquo;t have kids, but might want them    straight   \n",
      "1  doesn&rsquo;t have kids, but might want them    straight   \n",
      "2                                           NaN    straight   \n",
      "3                       doesn&rsquo;t want kids    straight   \n",
      "4                                           NaN    straight   \n",
      "\n",
      "                        pets                                  religion sex  \\\n",
      "0  likes dogs and likes cats     agnosticism and very serious about it   m   \n",
      "1  likes dogs and likes cats  agnosticism but not too serious about it   m   \n",
      "2                   has cats                                       NaN   m   \n",
      "3                 likes cats                                       NaN   m   \n",
      "4  likes dogs and likes cats                                       NaN   m   \n",
      "\n",
      "                                 sign     smokes  \\\n",
      "0                              gemini  sometimes   \n",
      "1                              cancer         no   \n",
      "2  pisces but it doesn&rsquo;t matter         no   \n",
      "3                              pisces         no   \n",
      "4                            aquarius         no   \n",
      "\n",
      "                                              speaks     status  \n",
      "0                                            english     single  \n",
      "1  english (fluently), spanish (poorly), french (...     single  \n",
      "2                               english, french, c++  available  \n",
      "3                           english, german (poorly)     single  \n",
      "4                                            english     single  \n",
      "\n",
      "[5 rows x 31 columns]\n"
     ]
    }
   ],
   "source": [
    "profiles = pd.read_csv(\"profiles.csv\")\n",
    "print(profiles.head())"
   ]
  },
  {
   "cell_type": "markdown",
   "metadata": {},
   "source": [
    "Let's make sure we understand what these columns represent!\n",
    "\n",
    "Pick some columns and call `.head()` on them to see the first five rows of data. For example, we were curious about `job`, so we called:"
   ]
  },
  {
   "cell_type": "code",
   "execution_count": 4,
   "metadata": {},
   "outputs": [
    {
     "name": "stdout",
     "output_type": "stream",
     "text": [
      "graduated from college/university    39.967638\n",
      "graduated from masters program       14.948454\n",
      "working on college/university         9.528576\n",
      "working on masters program            2.807527\n",
      "graduated from two-year college       2.553965\n",
      "graduated from high school            2.382144\n",
      "graduated from ph.d program           2.121910\n",
      "graduated from law school             1.871685\n",
      "working on two-year college           1.791612\n",
      "dropped out of college/university     1.659827\n",
      "working on ph.d program               1.639809\n",
      "college/university                    1.336203\n",
      "graduated from space camp             1.095986\n",
      "dropped out of space camp             0.872452\n",
      "graduated from med school             0.744003\n",
      "working on space camp                 0.742335\n",
      "working on law school                 0.448737\n",
      "two-year college                      0.370333\n",
      "working on med school                 0.353652\n",
      "dropped out of two-year college       0.318620\n",
      "dropped out of masters program        0.233544\n",
      "masters program                       0.226871\n",
      "dropped out of ph.d program           0.211857\n",
      "dropped out of high school            0.170153\n",
      "high school                           0.160144\n",
      "working on high school                0.145131\n",
      "space camp                            0.096754\n",
      "ph.d program                          0.043372\n",
      "law school                            0.031695\n",
      "dropped out of law school             0.030027\n",
      "dropped out of med school             0.020018\n",
      "med school                            0.018350\n",
      "Name: education, dtype: float64\n"
     ]
    }
   ],
   "source": [
    "print(100*profiles['education'].value_counts()/len(profiles))"
   ]
  },
  {
   "cell_type": "markdown",
   "metadata": {},
   "source": [
    "For example, we were curious about the distribution of ages on the site, so we made a histogram of the `age` column:"
   ]
  },
  {
   "cell_type": "code",
   "execution_count": 5,
   "metadata": {},
   "outputs": [
    {
     "data": {
      "image/png": "[encoded data removed]",
      "text/plain": [
       "<Figure size 432x288 with 1 Axes>"
      ]
     },
     "metadata": {
      "needs_background": "light"
     },
     "output_type": "display_data"
    }
   ],
   "source": [
    "plt.hist(profiles.age, bins=32)\n",
    "plt.xlabel(\"Age\")\n",
    "plt.ylabel(\"Count\")\n",
    "plt.xlim(16, 80)\n",
    "plt.show()"
   ]
  },
  {
   "cell_type": "code",
   "execution_count": 6,
   "metadata": {},
   "outputs": [
    {
     "data": {
      "image/png": "[encoded data removed]",
      "text/plain": [
       "<Figure size 432x288 with 1 Axes>"
      ]
     },
     "metadata": {
      "needs_background": "light"
     },
     "output_type": "display_data"
    }
   ],
   "source": [
    "#hist, bins = np.histogram(profiles.age, bins=32, normed=True)\n",
    "#bin_centers = (bins[1:]+bins[:-1])*0.5\n",
    "\n",
    "x_ = profiles.age.sort_values(inplace = False, ascending = True)\n",
    "y_ = np.linspace(0,1,len(x_))\n",
    "\n",
    "plt.plot(x_, y_)\n",
    "plt.xlabel(\"Age\")\n",
    "plt.ylabel(\"CDF\")\n",
    "plt.show()"
   ]
  },
  {
   "cell_type": "code",
   "execution_count": 7,
   "metadata": {},
   "outputs": [
    {
     "data": {
      "image/png": "[encoded data removed]",
      "text/plain": [
       "<Figure size 432x288 with 1 Axes>"
      ]
     },
     "metadata": {
      "needs_background": "light"
     },
     "output_type": "display_data"
    }
   ],
   "source": [
    "plt.hist(profiles.income, bins=32)\n",
    "plt.xlabel(\"Income\")\n",
    "plt.ylabel(\"Count\")\n",
    "plt.show()"
   ]
  },
  {
   "cell_type": "code",
   "execution_count": 8,
   "metadata": {},
   "outputs": [
    {
     "data": {
      "image/png": "[encoded data removed]",
      "text/plain": [
       "<Figure size 432x288 with 1 Axes>"
      ]
     },
     "metadata": {
      "needs_background": "light"
     },
     "output_type": "display_data"
    }
   ],
   "source": [
    "x_ = profiles.income.sort_values(inplace = False, ascending = True)\n",
    "y_ = np.linspace(0,1,len(x_))\n",
    "\n",
    "plt.plot(x_, y_)\n",
    "plt.xlabel(\"Income\")\n",
    "plt.ylabel(\"CDF\")\n",
    "plt.show()"
   ]
  },
  {
   "cell_type": "code",
   "execution_count": 9,
   "metadata": {},
   "outputs": [
    {
     "data": {
      "text/plain": [
       "-1          48442\n",
       " 20000       2952\n",
       " 100000      1621\n",
       " 80000       1111\n",
       " 30000       1048\n",
       " 40000       1005\n",
       " 50000        975\n",
       " 60000        736\n",
       " 70000        707\n",
       " 150000       631\n",
       " 1000000      521\n",
       " 250000       149\n",
       " 500000        48\n",
       "Name: income, dtype: int64"
      ]
     },
     "execution_count": 9,
     "metadata": {},
     "output_type": "execute_result"
    }
   ],
   "source": [
    "profiles.income.value_counts()"
   ]
  },
  {
   "cell_type": "code",
   "execution_count": 10,
   "metadata": {},
   "outputs": [],
   "source": [
    "drink_mapping = {\"not at all\": 0, \"rarely\": 1, \"socially\": 2, \"often\": 3, \"very often\": 4, \"desperately\": 5}\n",
    "profiles[\"drinks_code\"] = profiles.drinks.map(drink_mapping)\n",
    "\n",
    "drugs_mapping = {\"never\": 0, \"sometimes\": 1, \"often\": 2}\n",
    "profiles[\"drugs_code\"] = profiles.drugs.map(drugs_mapping)\n",
    "\n",
    "smokes_mapping = {\"no\": 0, \"sometimes\": 1, \"when drinking\": 2, \"yes\": 3, \"trying to quit\": 4}\n",
    "profiles[\"smokes_code\"] = profiles.smokes.map(smokes_mapping)\n",
    "\n",
    "income_map = []\n",
    "for profile_ in profiles['income']:\n",
    "    if profile_ < 0:\n",
    "        income_map.append(np.nan)\n",
    "    else:\n",
    "        income_map.append(profile_)\n",
    "profiles[\"adj_income\"] = income_map"
   ]
  },
  {
   "cell_type": "code",
   "execution_count": 11,
   "metadata": {},
   "outputs": [],
   "source": [
    "income_mapping_2 = {-1: np.nan, \n",
    "                    20000: 0, 30000: 0, 40000: 0,\n",
    "                    50000: 1, 60000: 1, 70000: 1, 80000: 1, 100000: 1,\n",
    "                    150000: 2, 250000: 2,\n",
    "                    500000: 3, 1000000: 3,}\n",
    "profiles[\"income_code\"] = profiles.income.map(income_mapping_2)"
   ]
  },
  {
   "cell_type": "code",
   "execution_count": 12,
   "metadata": {},
   "outputs": [
    {
     "data": {
      "image/png": "[encoded data removed]",
      "text/plain": [
       "<Figure size 432x288 with 1 Axes>"
      ]
     },
     "metadata": {
      "needs_background": "light"
     },
     "output_type": "display_data"
    }
   ],
   "source": [
    "plt.hist(profiles.income_code, bins=[-0.25,0.25,0.75,1.25,1.75,2.25,2.75,3.25])\n",
    "plt.xlabel(\"Income By Code\")\n",
    "plt.ylabel(\"Count\")\n",
    "plt.show()"
   ]
  },
  {
   "cell_type": "code",
   "execution_count": 13,
   "metadata": {},
   "outputs": [
    {
     "name": "stdout",
     "output_type": "stream",
     "text": [
      "1    NaN\n",
      "2    4.0\n",
      "3    3.0\n",
      "4    3.0\n",
      "5    3.0\n",
      "6    3.0\n",
      "7    3.0\n",
      "8    3.0\n",
      "9    2.0\n",
      "Name: enum_education, dtype: float64\n"
     ]
    }
   ],
   "source": [
    "edu_mapping = {\"graduated from college/university\": 3, \n",
    "               \"graduated from masters program\": 4, \n",
    "               \"working on college/university\": 3, \n",
    "               \"working on masters program\": 4, \n",
    "               \"graduated from two-year college\": 2, \n",
    "               \"graduated from high school\": 1,\n",
    "               \"graduated from ph.d program\": 5,\n",
    "               \"graduated from law school\": 5,\n",
    "               \"working on two-year college\": 2,\n",
    "               \"dropped out of college/university\": 1,\n",
    "               \"working on ph.d program\": 5,\n",
    "               \"college/university\": 3,\n",
    "               \"graduated from space camp\": np.nan,\n",
    "               \"dropped out of space camp\": np.nan,\n",
    "               \"graduated from med school\": 5,\n",
    "               \"working on space camp\": np.nan,\n",
    "               \"working on law school\": 5,\n",
    "               \"two-year college\": 2,\n",
    "               \"working on med school\": 5,\n",
    "               \"dropped out of two-year college\": 1,\n",
    "               \"dropped out of masters program\": 3,\n",
    "               \"masters program\": 4,\n",
    "               \"dropped out of ph.d program\": 3,\n",
    "               \"dropped out of high school\": 0,\n",
    "               \"high school\": 1,\n",
    "               \"working on high school\": 1,\n",
    "               \"space camp\": np.nan,\n",
    "               \"ph.d program\": 5,\n",
    "               \"law school\": 5,\n",
    "               \"dropped out of law school\": 3,\n",
    "               \"dropped out of med school\": 3,\n",
    "               \"med school\": 5}\n",
    "profiles[\"enum_education\"] = profiles.education.map(edu_mapping)\n",
    "print(profiles[\"enum_education\"][1:10])"
   ]
  },
  {
   "cell_type": "markdown",
   "metadata": {},
   "source": [
    "We also wanted some numerical data about the short answer essays. We combined them all into one string, took out the `NaN`s, and then created a new column called `essay_len`:"
   ]
  },
  {
   "cell_type": "code",
   "execution_count": 14,
   "metadata": {},
   "outputs": [],
   "source": [
    "essay_cols = [\"essay0\",\"essay1\",\"essay2\",\"essay3\",\"essay4\",\"essay5\",\"essay6\",\"essay7\",\"essay8\",\"essay9\"]\n",
    "\n",
    "\n",
    "# Removing the NaNs\n",
    "all_essays = profiles[essay_cols].replace(np.nan, '', regex=True)\n",
    "# Remove <br> html stuff\n",
    "all_essays = all_essays.replace('<br />', ' ', regex=True)\n",
    "all_essays = all_essays.replace('\\n', ' ', regex=True)\n",
    "all_essays = all_essays.replace('\\ni', ' ', regex=True)\n",
    "all_essays = all_essays.replace('\\n1', ' ', regex=True)\n",
    "# Combining the essays\n",
    "all_essays = all_essays[essay_cols].apply(lambda x: ' '.join(x), axis=1)\n",
    "\n",
    "\n",
    "profiles[\"essay_len\"] = all_essays.apply(lambda x: len(x))"
   ]
  },
  {
   "cell_type": "code",
   "execution_count": 15,
   "metadata": {},
   "outputs": [
    {
     "name": "stdout",
     "output_type": "stream",
     "text": [
      "0    about me:    i would love to think that i was ...\n",
      "1    i am a chef: this is what that means.  1. i am...\n",
      "2    i'm not ashamed of much, but writing public te...\n",
      "3    i work in a library and go to school. . . read...\n",
      "4    hey how's it going? currently vague on the pro...\n",
      "dtype: object\n"
     ]
    }
   ],
   "source": [
    "print(all_essays.head())"
   ]
  },
  {
   "cell_type": "code",
   "execution_count": 16,
   "metadata": {},
   "outputs": [],
   "source": [
    "avg_word_length = []\n",
    "num_I_or_me = []\n",
    "for essay in all_essays:\n",
    "    if essay:\n",
    "        words = re.split(r'[^0-9A-Za-z]+',essay)\n",
    "        wordLength = 0\n",
    "        IorME = 0\n",
    "        for word in words:\n",
    "            wordLength += len(word)\n",
    "            if word.lower() == \"i\" or word.lower() == \"me\":\n",
    "                IorME += 1      \n",
    "        avgWordLength = wordLength / len(words)\n",
    "    else:\n",
    "        avgWordLength = 0\n",
    "    avg_word_length.append(avgWordLength)\n",
    "    num_I_or_me.append(IorME)"
   ]
  },
  {
   "cell_type": "code",
   "execution_count": 17,
   "metadata": {},
   "outputs": [],
   "source": [
    "profiles[\"avg_word_length\"] = avg_word_length\n",
    "profiles[\"num_I_or_me\"] = num_I_or_me"
   ]
  },
  {
   "cell_type": "code",
   "execution_count": 18,
   "metadata": {},
   "outputs": [],
   "source": [
    "from collections import Counter\n",
    "# enumEducation = enumerate(Counter(profiles['education']), 0)\n",
    "#eduEnum = []\n",
    "\n",
    "#for profile_ in profiles['education']:\n",
    "#    c = np.nan\n",
    "#    for count, item in enumerate(Counter(profiles['education']), 0):\n",
    "#        if profile_ == item:\n",
    "#            c = count\n",
    "#    eduEnum.append(c)\n",
    "#profiles[\"enum_education\"] = eduEnum"
   ]
  },
  {
   "cell_type": "markdown",
   "metadata": {},
   "source": [
    "### Normalize your Data!\n",
    "\n",
    "\n",
    "In order to get accurate results, we should make sure our numerical data all has the same weight.\n",
    "\n",
    "\n",
    "For our Zodiac features, we used:"
   ]
  },
  {
   "cell_type": "code",
   "execution_count": 19,
   "metadata": {},
   "outputs": [],
   "source": [
    "profiles['sex_01'] = profiles['sex'].map({'m':0,'f':1})\n",
    "profiles_nonan = profiles.dropna(subset=['sex_01', 'smokes_code', 'drinks_code', 'drugs_code', 'essay_len', 'avg_word_length','num_I_or_me','enum_education', 'adj_income', 'income_code'])\n",
    "\n",
    "# feature_data = profiles_nonan[['smokes_code', 'drinks_code', 'drugs_code', 'essay_len', 'avg_word_length','num_I_or_me','enum_education']]\n",
    "feature_data = profiles_nonan[['enum_education', 'income_code']]\n",
    "feature_data2 = profiles_nonan[['essay_len', 'avg_word_length']]\n",
    "feature_data3 = profiles_nonan[['income_code']]\n",
    "labels = profiles_nonan['sex_01']\n",
    "labels2 = profiles_nonan['enum_education']\n",
    "labels3 = profiles_nonan['enum_education']\n",
    "\n",
    "x = feature_data.values\n",
    "min_max_scaler = preprocessing.MinMaxScaler()\n",
    "x_scaled = min_max_scaler.fit_transform(x)\n",
    "\n",
    "feature_data = pd.DataFrame(x_scaled, columns=feature_data.columns)"
   ]
  },
  {
   "cell_type": "code",
   "execution_count": 20,
   "metadata": {},
   "outputs": [],
   "source": [
    "colors_ = []\n",
    "for label_ in labels:\n",
    "    if label_:\n",
    "        colors_.append('red')\n",
    "    else:\n",
    "        colors_.append('blue')"
   ]
  },
  {
   "cell_type": "code",
   "execution_count": 21,
   "metadata": {},
   "outputs": [
    {
     "data": {
      "image/png": "[encoded data removed]",
      "text/plain": [
       "<Figure size 432x288 with 1 Axes>"
      ]
     },
     "metadata": {
      "needs_background": "light"
     },
     "output_type": "display_data"
    }
   ],
   "source": [
    "plt.scatter(feature_data['income_code'],feature_data['enum_education'],c=colors_, alpha=0.25)\n",
    "plt.xlabel('Income - Scaled')\n",
    "plt.ylabel('Education Level - Scaled')\n",
    "plt.title('Education vs Income by Sex')\n",
    "plt.show()"
   ]
  },
  {
   "cell_type": "code",
   "execution_count": 22,
   "metadata": {},
   "outputs": [
    {
     "data": {
      "image/png": "[encoded data removed]",
      "text/plain": [
       "<Figure size 432x288 with 1 Axes>"
      ]
     },
     "metadata": {
      "needs_background": "light"
     },
     "output_type": "display_data"
    }
   ],
   "source": [
    "plt.scatter(feature_data['income_code'],feature_data['enum_education'],c='black', alpha=0.25)\n",
    "plt.xlabel('Income - Scaled')\n",
    "plt.ylabel('Education Level - Scaled')\n",
    "plt.title('Education vs Income')\n",
    "plt.show()"
   ]
  },
  {
   "cell_type": "code",
   "execution_count": 23,
   "metadata": {},
   "outputs": [
    {
     "name": "stdout",
     "output_type": "stream",
     "text": [
      "6768\n",
      "0.6934435912581217\n",
      "0.07623999999999853\n"
     ]
    },
    {
     "data": {
      "image/png": "[encoded data removed]",
      "text/plain": [
       "<Figure size 432x288 with 1 Axes>"
      ]
     },
     "metadata": {
      "needs_background": "light"
     },
     "output_type": "display_data"
    }
   ],
   "source": [
    "train_data, test_data, train_labels, test_labels = train_test_split(feature_data, labels, test_size=0.2, random_state=1)\n",
    "print(len(train_data))\n",
    "classifier = KNeighborsClassifier(n_neighbors=5)\n",
    "t = time.process_time()\n",
    "classifier.fit(train_data, train_labels)\n",
    "elapsed_time = time.process_time() - t\n",
    "print(classifier.score(test_data, test_labels))\n",
    "print(elapsed_time)\n",
    "scores = []\n",
    "for k in range(1,100):\n",
    "    classifier = KNeighborsClassifier(n_neighbors = k)\n",
    "    classifier.fit(train_data, train_labels)\n",
    "    scores.append(classifier.score(test_data, test_labels))\n",
    "plt.plot(range(1,100), scores)\n",
    "plt.xlabel('k')\n",
    "plt.ylabel('K-Nearest Score')\n",
    "plt.title('Finding Optimal k')\n",
    "plt.show()"
   ]
  },
  {
   "cell_type": "code",
   "execution_count": 39,
   "metadata": {},
   "outputs": [
    {
     "name": "stdout",
     "output_type": "stream",
     "text": [
      "1.503975999999966\n",
      "0.7141169521559362\n"
     ]
    }
   ],
   "source": [
    "classifier = SVC(gamma=3,C=1)\n",
    "t = time.process_time()\n",
    "classifier.fit(train_data, train_labels)\n",
    "elapsed_time = time.process_time() - t\n",
    "print(elapsed_time)\n",
    "print(classifier.score(test_data, test_labels))\n",
    "scores = []\n",
    "cnt = 0\n",
    "for g_ in range(1,10):\n",
    "    for c_ in range(1,10):\n",
    "        cnt += 1\n",
    "        classifier = SVC(gamma=g_,C=c_)\n",
    "        classifier.fit(train_data, train_labels)\n",
    "        scores.append(classifier.score(test_data, test_labels))"
   ]
  },
  {
   "cell_type": "code",
   "execution_count": 42,
   "metadata": {},
   "outputs": [
    {
     "name": "stdout",
     "output_type": "stream",
     "text": [
      "81\n",
      "81\n",
      "81\n"
     ]
    }
   ],
   "source": [
    "print(cnt)\n",
    "print(len(scores))\n",
    "print(len(range(cnt)))"
   ]
  },
  {
   "cell_type": "code",
   "execution_count": 44,
   "metadata": {},
   "outputs": [
    {
     "data": {
      "image/png": "[encoded data removed]",
      "text/plain": [
       "<Figure size 432x288 with 1 Axes>"
      ]
     },
     "metadata": {
      "needs_background": "light"
     },
     "output_type": "display_data"
    }
   ],
   "source": [
    "plt.plot(range(cnt), scores)\n",
    "plt.xlabel('Index')\n",
    "plt.ylabel('SVC Score')\n",
    "plt.title('Finding Optimal Gamma/C')\n",
    "plt.show()"
   ]
  },
  {
   "cell_type": "code",
   "execution_count": 25,
   "metadata": {},
   "outputs": [
    {
     "name": "stdout",
     "output_type": "stream",
     "text": [
      "0.009689999999991983\n",
      "0.7152982870643827\n"
     ]
    }
   ],
   "source": [
    "classifier = MultinomialNB()\n",
    "t = time.process_time()\n",
    "classifier.fit(train_data, train_labels)\n",
    "elapsed_time = time.process_time() - t\n",
    "print(elapsed_time)\n",
    "print(classifier.score(test_data, test_labels))"
   ]
  },
  {
   "cell_type": "code",
   "execution_count": 26,
   "metadata": {},
   "outputs": [
    {
     "name": "stdout",
     "output_type": "stream",
     "text": [
      "6768\n",
      "0.01165999999999201\n",
      "0.4477259303012404\n"
     ]
    },
    {
     "data": {
      "image/png": "[encoded data removed]",
      "text/plain": [
       "<Figure size 432x288 with 1 Axes>"
      ]
     },
     "metadata": {
      "needs_background": "light"
     },
     "output_type": "display_data"
    }
   ],
   "source": [
    "train_data, test_data, train_labels, test_labels = train_test_split(feature_data2, labels2, test_size=0.2, random_state=1)\n",
    "print(len(train_data))\n",
    "classifier = KNeighborsClassifier(n_neighbors=5)\n",
    "t = time.process_time()\n",
    "classifier.fit(train_data, train_labels)\n",
    "elapsed_time = time.process_time() - t\n",
    "print(elapsed_time)\n",
    "print(classifier.score(test_data, test_labels))\n",
    "scores = []\n",
    "for k in range(1,100):\n",
    "    classifier = KNeighborsClassifier(n_neighbors = k)\n",
    "    classifier.fit(train_data, train_labels)\n",
    "    scores.append(classifier.score(test_data, test_labels))\n",
    "plt.plot(range(1,100), scores)\n",
    "plt.xlabel('k')\n",
    "plt.ylabel('K-Nearest Score')\n",
    "plt.title('Finding Optimal k')\n",
    "plt.show()"
   ]
  },
  {
   "cell_type": "code",
   "execution_count": 46,
   "metadata": {},
   "outputs": [
    {
     "name": "stdout",
     "output_type": "stream",
     "text": [
      "1.4679479999999785\n",
      "0.7141169521559362\n"
     ]
    },
    {
     "data": {
      "image/png": "[encoded data removed]",
      "text/plain": [
       "<Figure size 432x288 with 1 Axes>"
      ]
     },
     "metadata": {
      "needs_background": "light"
     },
     "output_type": "display_data"
    }
   ],
   "source": [
    "classifier = SVC(gamma=3,C=1)\n",
    "t = time.process_time()\n",
    "classifier.fit(train_data, train_labels)\n",
    "elapsed_time = time.process_time() - t\n",
    "print(elapsed_time)\n",
    "print(classifier.score(test_data, test_labels))\n",
    "scores = []\n",
    "cnt = 0\n",
    "for g_ in range(1,10):\n",
    "    for c_ in range(1,10):\n",
    "        cnt += 1\n",
    "        classifier = SVC(gamma=g_,C=c_)\n",
    "        classifier.fit(train_data, train_labels)\n",
    "        scores.append(classifier.score(test_data, test_labels))\n",
    "plt.plot(range(cnt), scores)\n",
    "plt.xlabel('Index')\n",
    "plt.ylabel('SVC Score')\n",
    "plt.title('Finding Optimal Gamma/C')\n",
    "plt.show()"
   ]
  },
  {
   "cell_type": "code",
   "execution_count": 28,
   "metadata": {},
   "outputs": [
    {
     "name": "stdout",
     "output_type": "stream",
     "text": [
      "0.013902000000001635\n",
      "0.5516834022445364\n"
     ]
    }
   ],
   "source": [
    "classifier = MultinomialNB()\n",
    "t = time.process_time()\n",
    "classifier.fit(train_data, train_labels)\n",
    "elapsed_time = time.process_time() - t\n",
    "print(elapsed_time)\n",
    "print(classifier.score(test_data, test_labels))"
   ]
  },
  {
   "cell_type": "code",
   "execution_count": 29,
   "metadata": {},
   "outputs": [
    {
     "name": "stdout",
     "output_type": "stream",
     "text": [
      "6768\n",
      "0.05170800000000497\n",
      "0.33195510927347904\n"
     ]
    },
    {
     "data": {
      "image/png": "[encoded data removed]",
      "text/plain": [
       "<Figure size 432x288 with 1 Axes>"
      ]
     },
     "metadata": {
      "needs_background": "light"
     },
     "output_type": "display_data"
    }
   ],
   "source": [
    "train_data, test_data, train_labels, test_labels = train_test_split(feature_data3, labels3, test_size=0.2, random_state=1)\n",
    "print(len(train_data))\n",
    "classifier = KNeighborsClassifier(n_neighbors=5)\n",
    "t = time.process_time()\n",
    "classifier.fit(train_data, train_labels)\n",
    "elapsed_time = time.process_time() - t\n",
    "print(elapsed_time)\n",
    "print(classifier.score(test_data, test_labels))\n",
    "scores = []\n",
    "for k in range(1,100):\n",
    "    classifier = KNeighborsClassifier(n_neighbors = k)\n",
    "    classifier.fit(train_data, train_labels)\n",
    "    scores.append(classifier.score(test_data, test_labels))\n",
    "plt.plot(range(1,100), scores)\n",
    "plt.xlabel('k')\n",
    "plt.ylabel('K-Nearest Score')\n",
    "plt.title('Finding Optimal k')\n",
    "plt.show()"
   ]
  },
  {
   "cell_type": "code",
   "execution_count": 30,
   "metadata": {},
   "outputs": [
    {
     "name": "stdout",
     "output_type": "stream",
     "text": [
      "1.9759659999999997\n",
      "0.5534554046072061\n"
     ]
    }
   ],
   "source": [
    "classifier = SVC(gamma=3,C=1)\n",
    "t = time.process_time()\n",
    "classifier.fit(train_data, train_labels)\n",
    "elapsed_time = time.process_time() - t\n",
    "print(elapsed_time)\n",
    "print(classifier.score(test_data, test_labels))"
   ]
  },
  {
   "cell_type": "code",
   "execution_count": 31,
   "metadata": {},
   "outputs": [
    {
     "name": "stdout",
     "output_type": "stream",
     "text": [
      "0.013428000000004658\n",
      "0.5534554046072061\n"
     ]
    }
   ],
   "source": [
    "classifier = MultinomialNB()\n",
    "t = time.process_time()\n",
    "classifier.fit(train_data, train_labels)\n",
    "elapsed_time = time.process_time() - t\n",
    "print(elapsed_time)\n",
    "print(classifier.score(test_data, test_labels))"
   ]
  },
  {
   "cell_type": "code",
   "execution_count": 47,
   "metadata": {},
   "outputs": [
    {
     "name": "stdout",
     "output_type": "stream",
     "text": [
      "0.026160779658499615\n",
      "0.030409108509710455\n"
     ]
    }
   ],
   "source": [
    "model = LinearRegression()\n",
    "train_data, test_data, train_labels, test_labels = train_test_split(feature_data, labels, test_size=0.2, random_state=1)\n",
    "model.fit(train_data, train_labels)\n",
    "print(model.score(train_data, train_labels))\n",
    "print(model.score(test_data, test_labels))"
   ]
  },
  {
   "cell_type": "code",
   "execution_count": 54,
   "metadata": {},
   "outputs": [
    {
     "name": "stdout",
     "output_type": "stream",
     "text": [
      "-0.7303578193663229\n",
      "-0.7503552980088051\n"
     ]
    },
    {
     "data": {
      "image/png": "[encoded data removed]",
      "text/plain": [
       "<Figure size 432x288 with 1 Axes>"
      ]
     },
     "metadata": {
      "needs_background": "light"
     },
     "output_type": "display_data"
    }
   ],
   "source": [
    "model = KNeighborsRegressor(n_neighbors = 3)\n",
    "model.fit(train_data, train_labels)\n",
    "print(model.score(train_data, train_labels))\n",
    "print(model.score(test_data, test_labels))\n",
    "scores = []\n",
    "for k in range(1,100):\n",
    "    classifier = KNeighborsRegressor(n_neighbors = k)\n",
    "    classifier.fit(train_data, train_labels)\n",
    "    scores.append(classifier.score(test_data, test_labels))\n",
    "plt.plot(range(1,100), scores)\n",
    "plt.xlabel('k')\n",
    "plt.ylabel('K-Nearest Score')\n",
    "plt.title('Finding Optimal k')\n",
    "plt.show()"
   ]
  },
  {
   "cell_type": "code",
   "execution_count": 55,
   "metadata": {},
   "outputs": [
    {
     "name": "stdout",
     "output_type": "stream",
     "text": [
      "0.013511601379598503\n",
      "0.008523467137894092\n"
     ]
    }
   ],
   "source": [
    "model = LinearRegression()\n",
    "train_data, test_data, train_labels, test_labels = train_test_split(feature_data2, labels2, test_size=0.2, random_state=1)\n",
    "model.fit(train_data, train_labels)\n",
    "print(model.score(train_data, train_labels))\n",
    "print(model.score(test_data, test_labels))"
   ]
  },
  {
   "cell_type": "code",
   "execution_count": 56,
   "metadata": {},
   "outputs": [
    {
     "name": "stdout",
     "output_type": "stream",
     "text": [
      "0.33459858733320413\n",
      "-0.3196641844350345\n"
     ]
    },
    {
     "data": {
      "image/png": "[encoded data removed]",
      "text/plain": [
       "<Figure size 432x288 with 1 Axes>"
      ]
     },
     "metadata": {
      "needs_background": "light"
     },
     "output_type": "display_data"
    }
   ],
   "source": [
    "model = KNeighborsRegressor(n_neighbors = 3)\n",
    "model.fit(train_data, train_labels)\n",
    "print(model.score(train_data, train_labels))\n",
    "print(model.score(test_data, test_labels))\n",
    "scores = []\n",
    "for k in range(1,100):\n",
    "    classifier = KNeighborsRegressor(n_neighbors = k)\n",
    "    classifier.fit(train_data, train_labels)\n",
    "    scores.append(classifier.score(test_data, test_labels))\n",
    "plt.plot(range(1,100), scores)\n",
    "plt.xlabel('k')\n",
    "plt.ylabel('K-Nearest Score')\n",
    "plt.title('Finding Optimal k')\n",
    "plt.show()"
   ]
  },
  {
   "cell_type": "code",
   "execution_count": 57,
   "metadata": {},
   "outputs": [
    {
     "name": "stdout",
     "output_type": "stream",
     "text": [
      "0.05088156934165744\n",
      "0.03835699181530084\n"
     ]
    }
   ],
   "source": [
    "model = LinearRegression()\n",
    "train_data, test_data, train_labels, test_labels = train_test_split(feature_data3, labels3, test_size=0.2, random_state=1)\n",
    "model.fit(train_data, train_labels)\n",
    "print(model.score(train_data, train_labels))\n",
    "print(model.score(test_data, test_labels))"
   ]
  },
  {
   "cell_type": "code",
   "execution_count": 58,
   "metadata": {},
   "outputs": [
    {
     "name": "stdout",
     "output_type": "stream",
     "text": [
      "-0.7303578193663229\n",
      "-0.7503552980088051\n"
     ]
    },
    {
     "data": {
      "image/png": "[encoded data removed]",
      "text/plain": [
       "<Figure size 432x288 with 1 Axes>"
      ]
     },
     "metadata": {
      "needs_background": "light"
     },
     "output_type": "display_data"
    }
   ],
   "source": [
    "model = KNeighborsRegressor(n_neighbors = 3)\n",
    "model.fit(train_data, train_labels)\n",
    "print(model.score(train_data, train_labels))\n",
    "print(model.score(test_data, test_labels))\n",
    "scores = []\n",
    "for k in range(1,100):\n",
    "    classifier = KNeighborsRegressor(n_neighbors = k)\n",
    "    classifier.fit(train_data, train_labels)\n",
    "    scores.append(classifier.score(test_data, test_labels))\n",
    "plt.plot(range(1,100), scores)\n",
    "plt.xlabel('k')\n",
    "plt.ylabel('K-Nearest Score')\n",
    "plt.title('Finding Optimal k')\n",
    "plt.show()"
   ]
  },
  {
   "cell_type": "code",
   "execution_count": null,
   "metadata": {},
   "outputs": [],
   "source": []
  }
 ],
 "metadata": {
  "kernelspec": {
   "display_name": "Python 3",
   "language": "python",
   "name": "python3"
  },
  "language_info": {
   "codemirror_mode": {
    "name": "ipython",
    "version": 3
   },
   "file_extension": ".py",
   "mimetype": "text/x-python",
   "name": "python",
   "nbconvert_exporter": "python",
   "pygments_lexer": "ipython3",
   "version": "3.7.1"
  }
 },
 "nbformat": 4,
 "nbformat_minor": 2
}
